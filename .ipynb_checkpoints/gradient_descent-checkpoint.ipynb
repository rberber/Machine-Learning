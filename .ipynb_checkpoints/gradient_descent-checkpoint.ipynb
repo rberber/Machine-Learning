{
 "cells": [
  {
   "cell_type": "markdown",
   "metadata": {},
   "source": [
    "# Batch Gradient Descent using Pandas, Numpy, and MatPlotLib"
   ]
  },
  {
   "cell_type": "code",
   "execution_count": 1,
   "metadata": {},
   "outputs": [
    {
     "data": {
      "text/html": [
       "<div>\n",
       "<style scoped>\n",
       "    .dataframe tbody tr th:only-of-type {\n",
       "        vertical-align: middle;\n",
       "    }\n",
       "\n",
       "    .dataframe tbody tr th {\n",
       "        vertical-align: top;\n",
       "    }\n",
       "\n",
       "    .dataframe thead th {\n",
       "        text-align: right;\n",
       "    }\n",
       "</style>\n",
       "<table border=\"1\" class=\"dataframe\">\n",
       "  <thead>\n",
       "    <tr style=\"text-align: right;\">\n",
       "      <th></th>\n",
       "      <th>x</th>\n",
       "      <th>y</th>\n",
       "    </tr>\n",
       "  </thead>\n",
       "  <tbody>\n",
       "    <tr>\n",
       "      <th>0</th>\n",
       "      <td>6.1101</td>\n",
       "      <td>17.5920</td>\n",
       "    </tr>\n",
       "    <tr>\n",
       "      <th>1</th>\n",
       "      <td>5.5277</td>\n",
       "      <td>9.1302</td>\n",
       "    </tr>\n",
       "    <tr>\n",
       "      <th>2</th>\n",
       "      <td>8.5186</td>\n",
       "      <td>13.6620</td>\n",
       "    </tr>\n",
       "    <tr>\n",
       "      <th>3</th>\n",
       "      <td>7.0032</td>\n",
       "      <td>11.8540</td>\n",
       "    </tr>\n",
       "    <tr>\n",
       "      <th>4</th>\n",
       "      <td>5.8598</td>\n",
       "      <td>6.8233</td>\n",
       "    </tr>\n",
       "  </tbody>\n",
       "</table>\n",
       "</div>"
      ],
      "text/plain": [
       "        x        y\n",
       "0  6.1101  17.5920\n",
       "1  5.5277   9.1302\n",
       "2  8.5186  13.6620\n",
       "3  7.0032  11.8540\n",
       "4  5.8598   6.8233"
      ]
     },
     "execution_count": 1,
     "metadata": {},
     "output_type": "execute_result"
    }
   ],
   "source": [
    "import pandas as pd\n",
    "import numpy as np\n",
    "import matplotlib.pyplot as plt\n",
    "%matplotlib inline\n",
    "\n",
    "# read in our data\n",
    "data = pd.read_csv('ex1data1.txt', sep=\",\", names=['x','y'])\n",
    "data.head()"
   ]
  },
  {
   "cell_type": "code",
   "execution_count": 2,
   "metadata": {},
   "outputs": [
    {
     "data": {
      "text/html": [
       "<div>\n",
       "<style scoped>\n",
       "    .dataframe tbody tr th:only-of-type {\n",
       "        vertical-align: middle;\n",
       "    }\n",
       "\n",
       "    .dataframe tbody tr th {\n",
       "        vertical-align: top;\n",
       "    }\n",
       "\n",
       "    .dataframe thead th {\n",
       "        text-align: right;\n",
       "    }\n",
       "</style>\n",
       "<table border=\"1\" class=\"dataframe\">\n",
       "  <thead>\n",
       "    <tr style=\"text-align: right;\">\n",
       "      <th></th>\n",
       "      <th>x</th>\n",
       "      <th>y</th>\n",
       "    </tr>\n",
       "  </thead>\n",
       "  <tbody>\n",
       "    <tr>\n",
       "      <th>0</th>\n",
       "      <td>6.1101</td>\n",
       "      <td>17.5920</td>\n",
       "    </tr>\n",
       "    <tr>\n",
       "      <th>1</th>\n",
       "      <td>5.5277</td>\n",
       "      <td>9.1302</td>\n",
       "    </tr>\n",
       "    <tr>\n",
       "      <th>2</th>\n",
       "      <td>8.5186</td>\n",
       "      <td>13.6620</td>\n",
       "    </tr>\n",
       "    <tr>\n",
       "      <th>3</th>\n",
       "      <td>7.0032</td>\n",
       "      <td>11.8540</td>\n",
       "    </tr>\n",
       "    <tr>\n",
       "      <th>4</th>\n",
       "      <td>5.8598</td>\n",
       "      <td>6.8233</td>\n",
       "    </tr>\n",
       "  </tbody>\n",
       "</table>\n",
       "</div>"
      ],
      "text/plain": [
       "        x        y\n",
       "0  6.1101  17.5920\n",
       "1  5.5277   9.1302\n",
       "2  8.5186  13.6620\n",
       "3  7.0032  11.8540\n",
       "4  5.8598   6.8233"
      ]
     },
     "execution_count": 2,
     "metadata": {},
     "output_type": "execute_result"
    }
   ],
   "source": [
    "# Convert to Pandas DataFrame\n",
    "df = pd.DataFrame(data)\n",
    "df.head()"
   ]
  },
  {
   "cell_type": "code",
   "execution_count": 3,
   "metadata": {},
   "outputs": [],
   "source": [
    "# Add in the column of ones that will be the multiplier for theta_zero\n",
    "x0 = pd.DataFrame(np.ones((len(df['x']), 1)))\n",
    "x1 = df['x']\n",
    "frames = [x0, x1]\n",
    "# set x and y DataFrames and initialize our theta parameters to [0; 0]\n",
    "x = pd.concat(frames, axis=1)\n",
    "y = df[['y']]\n",
    "theta = np.zeros((2, 1))\n",
    "\n",
    "# set some tuning parameters\n",
    "alpha = 0.01\n",
    "iterations = 1500"
   ]
  },
  {
   "cell_type": "markdown",
   "metadata": {},
   "source": [
    "### Cost Function\n",
    "\n",
    "We define the cost function using Batch Gradient Descent to be:\n",
    "> $\\sum_{i=0}^m \\frac{((\\theta_0 + \\theta_ix_i +...+\\theta_mx_m) - y_i)^2}{2m}$"
   ]
  },
  {
   "cell_type": "code",
   "execution_count": 4,
   "metadata": {},
   "outputs": [],
   "source": [
    "def computeCost(x, y, theta):\n",
    "    m = len(y)\n",
    "    hypothesis = x.values.dot(theta)\n",
    "    error = hypothesis - y\n",
    "    squaredError = error ** 2\n",
    "    return ((squaredError.sum())/(2*m))"
   ]
  },
  {
   "cell_type": "code",
   "execution_count": 5,
   "metadata": {},
   "outputs": [
    {
     "name": "stdout",
     "output_type": "stream",
     "text": [
      "\n",
      "Testing the cost function ...\n",
      "\n",
      "With theta = [[0], [0]]\n",
      "Cost computed = 32.07\n",
      "Expected cost value (approx) 32.07\n",
      "\n",
      "With theta = [[-1], [2]]\n",
      "Cost computed = 54.24\n",
      "Expected cost value (approx) 54.24\n",
      "\n"
     ]
    }
   ],
   "source": [
    "print('\\nTesting the cost function ...\\n')\n",
    "# compute and display initial cost\n",
    "J = computeCost(x, y, theta)\n",
    "print('With theta = [[0], [0]]\\nCost computed = {:0.2f}'.format(J.values[0]))\n",
    "print('Expected cost value (approx) 32.07\\n')\n",
    "\n",
    "# further testing of the cost function\n",
    "theta[0] = -1\n",
    "theta[1] = 2\n",
    "J = computeCost(x, y, theta)\n",
    "print('With theta = [[-1], [2]]\\nCost computed = {:0.2f}'.format(J.values[0]))\n",
    "print('Expected cost value (approx) 54.24\\n');"
   ]
  },
  {
   "cell_type": "code",
   "execution_count": 6,
   "metadata": {},
   "outputs": [],
   "source": [
    "def gradientDescent(x, y, theta, alpha, iterations):\n",
    "    m = len(y)\n",
    "    x1 = x[['x']]\n",
    "    for i in range(0, iterations):\n",
    "        hypothesis = x.values.dot(theta)\n",
    "        error = hypothesis - y\n",
    "        temp0 = theta[0] - alpha*((error.sum())/(m))\n",
    "        temp1 = theta[1] - alpha*((error.T.dot(x1))/(m))\n",
    "        theta[0] = temp0\n",
    "        theta[1] = temp1\n",
    "        cost_history[i] = computeCost(x, y, theta)\n",
    "    return theta"
   ]
  },
  {
   "cell_type": "code",
   "execution_count": 7,
   "metadata": {},
   "outputs": [
    {
     "name": "stdout",
     "output_type": "stream",
     "text": [
      "\n",
      "Running Gradient Descent ...\n",
      "\n",
      "Theta found by gradient descent:\n",
      "\n",
      "Theta Zero: -3.6303\n",
      "\n",
      "Theta One: 1.1664\n",
      "\n",
      "Expected Theta Zero (approx): -3.6303\n",
      "\n",
      "Expected Theta One (approx): 1.1664\n",
      "\n"
     ]
    }
   ],
   "source": [
    "theta[0] = 0\n",
    "theta[1] = 0\n",
    "cost_history = [0] * iterations\n",
    "print('\\nRunning Gradient Descent ...\\n')\n",
    "theta = gradientDescent(x, y, theta, alpha, iterations);\n",
    "\n",
    "# print theta to screen\n",
    "print('Theta found by gradient descent:\\n');\n",
    "print('Theta Zero: {:0.4f}\\n'.format(theta.item(0)))\n",
    "print('Theta One: {:0.4f}\\n'.format(theta.item(1)))\n",
    "print('Expected Theta Zero (approx): {:0.4f}\\n'.format(-3.6303))\n",
    "print('Expected Theta One (approx): {:0.4f}\\n'.format(1.1664))"
   ]
  },
  {
   "cell_type": "code",
   "execution_count": 8,
   "metadata": {},
   "outputs": [
    {
     "data": {
      "image/png": "[encoded data removed]",
      "text/plain": [
       "<matplotlib.figure.Figure at 0x120f4fef0>"
      ]
     },
     "metadata": {},
     "output_type": "display_data"
    }
   ],
   "source": [
    "x1 = x[['x']]\n",
    "plt.plot(x1, x.dot(theta), 'r-', label='Prediction', linewidth=2)\n",
    "plt.plot(x1, y, 'bo', markersize=2)\n",
    "plt.xlabel(r'$X_i$')\n",
    "plt.ylabel(r'$Y_i$')\n",
    "plt.title('Hypothesis Found by Gradient Descent')\n",
    "plt.legend(loc=5)\n",
    "plt.show()"
   ]
  },
  {
   "cell_type": "code",
   "execution_count": 9,
   "metadata": {},
   "outputs": [],
   "source": [
    "theta0_vals = np.linspace(-10, 10, 100)\n",
    "theta1_vals = np.linspace(-1, 4, 100)\n",
    "costs = np.zeros((len(theta0_vals), len(theta1_vals)))\n",
    "for i in range(theta0_vals.shape[0]):\n",
    "    for j in range(theta1_vals.shape[0]): \n",
    "        theta[0] = theta0_vals[i]\n",
    "        theta[1] = theta1_vals[j]\n",
    "        costs[i,j] = computeCost(x, y, theta)"
   ]
  },
  {
   "cell_type": "code",
   "execution_count": 10,
   "metadata": {},
   "outputs": [
    {
     "data": {
      "image/png": "[encoded data removed]",
      "text/plain": [
       "<matplotlib.figure.Figure at 0x1299844e0>"
      ]
     },
     "metadata": {},
     "output_type": "display_data"
    }
   ],
   "source": [
    "from mpl_toolkits.mplot3d import Axes3D\n",
    "from matplotlib import cm\n",
    "fig = plt.figure()\n",
    "ax = fig.add_subplot(111, projection='3d')\n",
    "theta0_vals, theta1_vals = np.meshgrid(theta0_vals, theta1_vals)\n",
    "\n",
    "surf = ax.plot_surface(theta0_vals, theta1_vals, costs, cmap=cm.PuOr,\n",
    "                       linewidth=0, antialiased=False)\n",
    "fig.colorbar(surf, shrink=0.5, aspect=5)\n",
    "ax.view_init(azim=50)\n",
    "plt.show()"
   ]
  },
  {
   "cell_type": "code",
   "execution_count": null,
   "metadata": {},
   "outputs": [],
   "source": []
  }
 ],
 "metadata": {
  "kernelspec": {
   "display_name": "Python 3",
   "language": "python",
   "name": "python3"
  },
  "language_info": {
   "codemirror_mode": {
    "name": "ipython",
    "version": 3
   },
   "file_extension": ".py",
   "mimetype": "text/x-python",
   "name": "python",
   "nbconvert_exporter": "python",
   "pygments_lexer": "ipython3",
   "version": "3.6.4"
  }
 },
 "nbformat": 4,
 "nbformat_minor": 2
}
