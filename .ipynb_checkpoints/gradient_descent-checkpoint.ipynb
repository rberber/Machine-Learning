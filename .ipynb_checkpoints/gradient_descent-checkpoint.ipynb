{
 "cells": [
  {
   "cell_type": "markdown",
   "metadata": {},
   "source": [
    "# Batch Gradient Descent using Pandas, Numpy, and MatPlotLib\n",
    "\n",
    "- First we will read in our data"
   ]
  },
  {
   "cell_type": "code",
   "execution_count": 270,
   "metadata": {},
   "outputs": [
    {
     "data": {
      "text/html": [
       "<div>\n",
       "<style scoped>\n",
       "    .dataframe tbody tr th:only-of-type {\n",
       "        vertical-align: middle;\n",
       "    }\n",
       "\n",
       "    .dataframe tbody tr th {\n",
       "        vertical-align: top;\n",
       "    }\n",
       "\n",
       "    .dataframe thead th {\n",
       "        text-align: right;\n",
       "    }\n",
       "</style>\n",
       "<table border=\"1\" class=\"dataframe\">\n",
       "  <thead>\n",
       "    <tr style=\"text-align: right;\">\n",
       "      <th></th>\n",
       "      <th>0</th>\n",
       "      <th>1</th>\n",
       "    </tr>\n",
       "  </thead>\n",
       "  <tbody>\n",
       "    <tr>\n",
       "      <th>0</th>\n",
       "      <td>6.1101</td>\n",
       "      <td>17.5920</td>\n",
       "    </tr>\n",
       "    <tr>\n",
       "      <th>1</th>\n",
       "      <td>5.5277</td>\n",
       "      <td>9.1302</td>\n",
       "    </tr>\n",
       "    <tr>\n",
       "      <th>2</th>\n",
       "      <td>8.5186</td>\n",
       "      <td>13.6620</td>\n",
       "    </tr>\n",
       "    <tr>\n",
       "      <th>3</th>\n",
       "      <td>7.0032</td>\n",
       "      <td>11.8540</td>\n",
       "    </tr>\n",
       "    <tr>\n",
       "      <th>4</th>\n",
       "      <td>5.8598</td>\n",
       "      <td>6.8233</td>\n",
       "    </tr>\n",
       "  </tbody>\n",
       "</table>\n",
       "</div>"
      ],
      "text/plain": [
       "        0        1\n",
       "0  6.1101  17.5920\n",
       "1  5.5277   9.1302\n",
       "2  8.5186  13.6620\n",
       "3  7.0032  11.8540\n",
       "4  5.8598   6.8233"
      ]
     },
     "execution_count": 270,
     "metadata": {},
     "output_type": "execute_result"
    }
   ],
   "source": [
    "import pandas as pd\n",
    "import numpy as np\n",
    "import matplotlib.pyplot as plt\n",
    "\n",
    "# read in our data\n",
    "data = pd.read_csv('ex1data1.txt', sep=\",\", header=None)\n",
    "data.head()"
   ]
  },
  {
   "cell_type": "code",
   "execution_count": 238,
   "metadata": {},
   "outputs": [],
   "source": [
    "# add column headers\n",
    "df = pd.DataFrame(data)\n",
    "df.columns = [\"x\", \"y\"]"
   ]
  },
  {
   "cell_type": "code",
   "execution_count": 239,
   "metadata": {},
   "outputs": [
    {
     "data": {
      "text/html": [
       "<div>\n",
       "<style scoped>\n",
       "    .dataframe tbody tr th:only-of-type {\n",
       "        vertical-align: middle;\n",
       "    }\n",
       "\n",
       "    .dataframe tbody tr th {\n",
       "        vertical-align: top;\n",
       "    }\n",
       "\n",
       "    .dataframe thead th {\n",
       "        text-align: right;\n",
       "    }\n",
       "</style>\n",
       "<table border=\"1\" class=\"dataframe\">\n",
       "  <thead>\n",
       "    <tr style=\"text-align: right;\">\n",
       "      <th></th>\n",
       "      <th>x</th>\n",
       "      <th>y</th>\n",
       "    </tr>\n",
       "  </thead>\n",
       "  <tbody>\n",
       "    <tr>\n",
       "      <th>0</th>\n",
       "      <td>6.1101</td>\n",
       "      <td>17.5920</td>\n",
       "    </tr>\n",
       "    <tr>\n",
       "      <th>1</th>\n",
       "      <td>5.5277</td>\n",
       "      <td>9.1302</td>\n",
       "    </tr>\n",
       "    <tr>\n",
       "      <th>2</th>\n",
       "      <td>8.5186</td>\n",
       "      <td>13.6620</td>\n",
       "    </tr>\n",
       "    <tr>\n",
       "      <th>3</th>\n",
       "      <td>7.0032</td>\n",
       "      <td>11.8540</td>\n",
       "    </tr>\n",
       "    <tr>\n",
       "      <th>4</th>\n",
       "      <td>5.8598</td>\n",
       "      <td>6.8233</td>\n",
       "    </tr>\n",
       "  </tbody>\n",
       "</table>\n",
       "</div>"
      ],
      "text/plain": [
       "        x        y\n",
       "0  6.1101  17.5920\n",
       "1  5.5277   9.1302\n",
       "2  8.5186  13.6620\n",
       "3  7.0032  11.8540\n",
       "4  5.8598   6.8233"
      ]
     },
     "execution_count": 239,
     "metadata": {},
     "output_type": "execute_result"
    }
   ],
   "source": [
    "df.head()"
   ]
  },
  {
   "cell_type": "code",
   "execution_count": 240,
   "metadata": {},
   "outputs": [
    {
     "data": {
      "text/plain": [
       "(97, 1)"
      ]
     },
     "execution_count": 240,
     "metadata": {},
     "output_type": "execute_result"
    }
   ],
   "source": [
    "# add in the column of ones that will be the multiplier for theta_zero\n",
    "x0 = pd.DataFrame(np.ones((len(df['x']), 1)))\n",
    "x1 = df['x']\n",
    "frames = [x0, x1]\n",
    "# set x and y DataFrames and initialize our theta parameters to [0; 0]\n",
    "x = pd.concat(frames, axis=1)\n",
    "y = df[['y']]\n",
    "theta = np.zeros((2, 1))\n",
    "\n",
    "# set some tuning parameters\n",
    "alpha = 0.01\n",
    "iterations = 1500"
   ]
  },
  {
   "cell_type": "code",
   "execution_count": 241,
   "metadata": {},
   "outputs": [],
   "source": [
    "def computeCost(x, y, theta):\n",
    "    m = len(y)\n",
    "    hypothesis = x.values.dot(theta)\n",
    "    error = hypothesis - y\n",
    "    squaredError = error ** 2\n",
    "    return ((squaredError.sum())/(2*m))"
   ]
  },
  {
   "cell_type": "code",
   "execution_count": 252,
   "metadata": {},
   "outputs": [
    {
     "name": "stdout",
     "output_type": "stream",
     "text": [
      "\n",
      "Testing the cost function ...\n",
      "\n",
      "With theta = [[0], [0]]\n",
      "Cost computed = 4.48\n",
      "Expected cost value (approx) 32.07\n",
      "\n",
      "With theta = [[-1], [2]]\n",
      "Cost computed = 54.24\n",
      "Expected cost value (approx) 54.24\n",
      "\n"
     ]
    }
   ],
   "source": [
    "print('\\nTesting the cost function ...\\n')\n",
    "# compute and display initial cost\n",
    "J = computeCost(x, y, theta)\n",
    "print('With theta = [[0], [0]]\\nCost computed = {:0.2f}'.format(J.values[0]))\n",
    "print('Expected cost value (approx) 32.07\\n')\n",
    "\n",
    "\n",
    "# further testing of the cost function\n",
    "theta[0] = -1\n",
    "theta[1] = 2\n",
    "J = computeCost(x, y, theta)\n",
    "print('With theta = [[-1], [2]]\\nCost computed = {:0.2f}'.format(J.values[0]))\n",
    "print('Expected cost value (approx) 54.24\\n');"
   ]
  },
  {
   "cell_type": "code",
   "execution_count": 253,
   "metadata": {},
   "outputs": [],
   "source": [
    "def gradientDescent(x, y, theta, alpha, iterations):\n",
    "    m = len(y)\n",
    "    x1 = x[['x']]\n",
    "    cost_history = [0] * iterations\n",
    "    for i in range(0, iterations):\n",
    "        hypothesis = x.values.dot(theta)\n",
    "        error = hypothesis - y\n",
    "        temp0 = theta[0] - alpha*((error.sum())/(m))\n",
    "        temp1 = theta[1] - alpha*((error.T.dot(x1))/(m))\n",
    "        theta[0] = temp0\n",
    "        theta[1] = temp1\n",
    "    return theta"
   ]
  },
  {
   "cell_type": "code",
   "execution_count": 264,
   "metadata": {},
   "outputs": [
    {
     "name": "stdout",
     "output_type": "stream",
     "text": [
      "\n",
      "Running Gradient Descent ...\n",
      "\n",
      "Theta found by gradient descent:\n",
      "\n",
      "Theta Zero: -3.90\n",
      "\n",
      "Theta One: 1.19\n",
      "\n",
      "Expected theta values (approx)\n",
      "\n",
      " -3.6303\n",
      "  1.1664\n",
      "\n",
      "\n"
     ]
    }
   ],
   "source": [
    "print('\\nRunning Gradient Descent ...\\n')\n",
    "theta = gradientDescent(x, y, theta, alpha, iterations);\n",
    "\n",
    "# print theta to screen\n",
    "print('Theta found by gradient descent:\\n');\n",
    "print('Theta Zero: {:0.2f}\\n'.format(theta.item(0)))\n",
    "print('Theta One: {:0.2f}\\n'.format(theta.item(1)))\n"
   ]
  },
  {
   "cell_type": "code",
   "execution_count": 273,
   "metadata": {},
   "outputs": [
    {
     "data": {
      "image/png": "[encoded data removed]",
      "text/plain": [
       "<matplotlib.figure.Figure at 0x120801400>"
      ]
     },
     "metadata": {},
     "output_type": "display_data"
    }
   ],
   "source": [
    "x1 = x[['x']]\n",
    "plt.plot(x1, x.dot(theta), 'r-', linewidth=3)\n",
    "plt.plot(x1, y, 'bo', markersize=2)\n",
    "plt.show()"
   ]
  }
 ],
 "metadata": {
  "kernelspec": {
   "display_name": "Python 3",
   "language": "python",
   "name": "python3"
  },
  "language_info": {
   "codemirror_mode": {
    "name": "ipython",
    "version": 3
   },
   "file_extension": ".py",
   "mimetype": "text/x-python",
   "name": "python",
   "nbconvert_exporter": "python",
   "pygments_lexer": "ipython3",
   "version": "3.6.4"
  }
 },
 "nbformat": 4,
 "nbformat_minor": 2
}
